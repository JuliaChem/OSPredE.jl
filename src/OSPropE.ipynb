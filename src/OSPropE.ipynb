{
 "cells": [
  {
   "cell_type": "code",
   "execution_count": 71,
   "metadata": {},
   "outputs": [
    {
     "name": "stdout",
     "output_type": "stream",
     "text": [
      "\u001b[32m\u001b[1m  Building\u001b[22m\u001b[39m Cxx → `C:\\Users\\Kelvyn\\.julia\\packages\\Cxx\\1RaOv\\deps\\build.log`\n"
     ]
    }
   ],
   "source": [
    "] build MolecularGraph"
   ]
  },
  {
   "cell_type": "code",
   "execution_count": 104,
   "metadata": {},
   "outputs": [],
   "source": [
    "using MolecularGraph, DataFrames"
   ]
  },
  {
   "cell_type": "code",
   "execution_count": 105,
   "metadata": {},
   "outputs": [
    {
     "data": {
      "image/svg+xml": [
       "<svg xmlns=\"http://www.w3.org/2000/svg\"\n",
       " xmlns:xlink=\"http://www.w3.org/1999/xlink\"\n",
       " version=\"1.2\" baseProfile=\"tiny\"\n",
       " text-rendering=\"geometricPrecision\"\n",
       " preserveAspectRatio=\"xMidYMid meet\"\n",
       " font-weight=\"normal\"\n",
       " font-family=\"Helvetica\"\n",
       " width=\"300\" height=\"300\"\n",
       " viewBox=\"0 0 241.90 135.15\">\n",
       "<rect x=\"0\" y=\"0\" width=\"241.90\" height=\"135.15\"\n",
       " fill=\"rgb(255, 255, 255)\" opacity=\"0.0\"/>\n",
       "<line x1=\"56.01\" y1=\"60.00\" x2=\"81.96\" y2=\"75.05\" stroke=\"rgb(0, 0, 0)\" /><line x1=\"185.89\" y1=\"75.26\" x2=\"204.10\" y2=\"64.79\" stroke=\"rgb(0, 0, 0)\" /><line x1=\"107.97\" y1=\"60.10\" x2=\"118.51\" y2=\"41.94\" stroke=\"rgb(0, 0, 0)\" /><line x1=\"56.01\" y1=\"60.00\" x2=\"37.80\" y2=\"70.46\" stroke=\"rgb(0, 0, 0)\" /><line x1=\"81.96\" y1=\"75.05\" x2=\"71.42\" y2=\"93.22\" stroke=\"rgb(0, 0, 0)\" /><line x1=\"107.97\" y1=\"60.10\" x2=\"97.51\" y2=\"41.90\" stroke=\"rgb(0, 0, 0)\" /><line x1=\"81.96\" y1=\"75.05\" x2=\"92.43\" y2=\"93.26\" stroke=\"rgb(0, 0, 0)\" /><line x1=\"159.94\" y1=\"60.21\" x2=\"185.89\" y2=\"75.26\" stroke=\"rgb(0, 0, 0)\" /><line x1=\"107.97\" y1=\"60.10\" x2=\"133.93\" y2=\"75.15\" stroke=\"rgb(0, 0, 0)\" /><line x1=\"81.96\" y1=\"75.05\" x2=\"107.97\" y2=\"60.10\" stroke=\"rgb(0, 0, 0)\" /><line x1=\"133.93\" y1=\"75.15\" x2=\"159.94\" y2=\"60.21\" stroke=\"rgb(0, 0, 0)\" /><line x1=\"138.77\" y1=\"77.56\" x2=\"159.58\" y2=\"65.60\" stroke=\"rgb(0, 0, 0)\" /><line x1=\"159.94\" y1=\"60.21\" x2=\"159.98\" y2=\"39.20\" stroke=\"rgb(0, 0, 0)\" /><line x1=\"185.89\" y1=\"75.26\" x2=\"175.35\" y2=\"93.43\" stroke=\"rgb(0, 0, 0)\" /><line x1=\"185.89\" y1=\"75.26\" x2=\"196.35\" y2=\"93.47\" stroke=\"rgb(0, 0, 0)\" /><line x1=\"133.93\" y1=\"75.15\" x2=\"133.88\" y2=\"96.15\" stroke=\"rgb(0, 0, 0)\" /><line x1=\"53.80\" y1=\"39.00\" x2=\"53.78\" y2=\"49.50\" stroke=\"rgb(255, 0, 0)\" />\n",
       "<line x1=\"53.78\" y1=\"49.50\" x2=\"53.76\" y2=\"60.00\" stroke=\"rgb(0, 0, 0)\" />\n",
       "<line x1=\"58.30\" y1=\"39.00\" x2=\"58.28\" y2=\"49.51\" stroke=\"rgb(255, 0, 0)\" />\n",
       "<line x1=\"58.28\" y1=\"49.51\" x2=\"58.26\" y2=\"60.01\" stroke=\"rgb(0, 0, 0)\" />\n",
       "<text x=\"123.02\" y=\"41.15\" font-size=\"14.0\"\n",
       " fill=\"rgb(0, 0, 0)\" text-anchor=\"middle\" >H</text>\n",
       "<text x=\"200.84\" y=\"108.27\" font-size=\"14.0\"\n",
       " fill=\"rgb(0, 0, 0)\" text-anchor=\"middle\" >H</text>\n",
       "<text x=\"93.03\" y=\"41.09\" font-size=\"14.0\"\n",
       " fill=\"rgb(0, 0, 0)\" text-anchor=\"middle\" >H</text>\n",
       "<text x=\"96.91\" y=\"108.06\" font-size=\"14.0\"\n",
       " fill=\"rgb(0, 0, 0)\" text-anchor=\"middle\" >H</text>\n",
       "<text x=\"133.87\" y=\"112.15\" font-size=\"14.0\"\n",
       " fill=\"rgb(0, 0, 0)\" text-anchor=\"middle\" >H</text>\n",
       "<text x=\"66.91\" y=\"108.00\" font-size=\"14.0\"\n",
       " fill=\"rgb(0, 0, 0)\" text-anchor=\"middle\" >H</text>\n",
       "<text x=\"160.00\" y=\"37.20\" font-size=\"14.0\"\n",
       " fill=\"rgb(0, 0, 0)\" text-anchor=\"middle\" >H</text>\n",
       "<text x=\"211.90\" y=\"67.31\" font-size=\"14.0\"\n",
       " fill=\"rgb(0, 0, 0)\" text-anchor=\"middle\" >H</text>\n",
       "<text x=\"30.00\" y=\"81.95\" font-size=\"14.0\"\n",
       " fill=\"rgb(0, 0, 0)\" text-anchor=\"middle\" >H</text>\n",
       "<text x=\"170.83\" y=\"108.21\" font-size=\"14.0\"\n",
       " fill=\"rgb(0, 0, 0)\" text-anchor=\"middle\" >H</text>\n",
       "<text x=\"56.07\" y=\"37.00\" font-size=\"14.0\"\n",
       " fill=\"rgb(255, 0, 0)\" text-anchor=\"middle\" >O</text>\n",
       "</svg>\n"
      ]
     },
     "metadata": {},
     "output_type": "display_data"
    }
   ],
   "source": [
    "mol = makehydrogensexplicit(smilestomol(\"O=CCCC=CC\"))\n",
    "mol_svg = drawsvg(mol, 300, 300)\n",
    "display(\"image/svg+xml\",  mol_svg)"
   ]
  },
  {
   "cell_type": "code",
   "execution_count": 106,
   "metadata": {
    "scrolled": false
   },
   "outputs": [
    {
     "data": {
      "image/svg+xml": [
       "<svg xmlns=\"http://www.w3.org/2000/svg\"\n",
       " xmlns:xlink=\"http://www.w3.org/1999/xlink\"\n",
       " version=\"1.2\" baseProfile=\"tiny\"\n",
       " text-rendering=\"geometricPrecision\"\n",
       " preserveAspectRatio=\"xMidYMid meet\"\n",
       " font-weight=\"normal\"\n",
       " font-family=\"Helvetica\"\n",
       " width=\"400\" height=\"400\"\n",
       " viewBox=\"0 0 241.90 135.15\">\n",
       "<rect x=\"0\" y=\"0\" width=\"241.90\" height=\"135.15\"\n",
       " fill=\"rgb(255, 255, 255)\" opacity=\"0.0\"/>\n",
       "<line x1=\"56.01\" y1=\"60.00\" x2=\"81.96\" y2=\"75.05\" stroke=\"rgb(0, 0, 0)\" /><line x1=\"185.89\" y1=\"75.26\" x2=\"204.10\" y2=\"64.79\" stroke=\"rgb(0, 0, 0)\" /><line x1=\"107.97\" y1=\"60.10\" x2=\"118.51\" y2=\"41.94\" stroke=\"rgb(0, 0, 0)\" /><line x1=\"56.01\" y1=\"60.00\" x2=\"37.80\" y2=\"70.46\" stroke=\"rgb(0, 0, 0)\" /><line x1=\"81.96\" y1=\"75.05\" x2=\"71.42\" y2=\"93.22\" stroke=\"rgb(0, 0, 0)\" /><line x1=\"107.97\" y1=\"60.10\" x2=\"97.51\" y2=\"41.90\" stroke=\"rgb(0, 0, 0)\" /><line x1=\"81.96\" y1=\"75.05\" x2=\"92.43\" y2=\"93.26\" stroke=\"rgb(0, 0, 0)\" /><line x1=\"159.94\" y1=\"60.21\" x2=\"185.89\" y2=\"75.26\" stroke=\"rgb(0, 0, 0)\" /><line x1=\"107.97\" y1=\"60.10\" x2=\"133.93\" y2=\"75.15\" stroke=\"rgb(0, 0, 0)\" /><line x1=\"81.96\" y1=\"75.05\" x2=\"107.97\" y2=\"60.10\" stroke=\"rgb(0, 0, 0)\" /><line x1=\"133.93\" y1=\"75.15\" x2=\"159.94\" y2=\"60.21\" stroke=\"rgb(0, 0, 0)\" /><line x1=\"138.77\" y1=\"77.56\" x2=\"159.58\" y2=\"65.60\" stroke=\"rgb(0, 0, 0)\" /><line x1=\"159.94\" y1=\"60.21\" x2=\"159.98\" y2=\"39.20\" stroke=\"rgb(0, 0, 0)\" /><line x1=\"185.89\" y1=\"75.26\" x2=\"175.35\" y2=\"93.43\" stroke=\"rgb(0, 0, 0)\" /><line x1=\"185.89\" y1=\"75.26\" x2=\"196.35\" y2=\"93.47\" stroke=\"rgb(0, 0, 0)\" /><line x1=\"133.93\" y1=\"75.15\" x2=\"133.88\" y2=\"96.15\" stroke=\"rgb(0, 0, 0)\" /><line x1=\"53.80\" y1=\"39.00\" x2=\"53.78\" y2=\"49.50\" stroke=\"rgb(255, 0, 0)\" />\n",
       "<line x1=\"53.78\" y1=\"49.50\" x2=\"53.76\" y2=\"60.00\" stroke=\"rgb(0, 0, 0)\" />\n",
       "<line x1=\"58.30\" y1=\"39.00\" x2=\"58.28\" y2=\"49.51\" stroke=\"rgb(255, 0, 0)\" />\n",
       "<line x1=\"58.28\" y1=\"49.51\" x2=\"58.26\" y2=\"60.01\" stroke=\"rgb(0, 0, 0)\" />\n",
       "<text x=\"123.02\" y=\"41.15\" font-size=\"14.0\"\n",
       " fill=\"rgb(0, 0, 0)\" text-anchor=\"middle\" >H</text>\n",
       "<text x=\"200.84\" y=\"108.27\" font-size=\"14.0\"\n",
       " fill=\"rgb(0, 0, 0)\" text-anchor=\"middle\" >H</text>\n",
       "<text x=\"93.03\" y=\"41.09\" font-size=\"14.0\"\n",
       " fill=\"rgb(0, 0, 0)\" text-anchor=\"middle\" >H</text>\n",
       "<text x=\"96.91\" y=\"108.06\" font-size=\"14.0\"\n",
       " fill=\"rgb(0, 0, 0)\" text-anchor=\"middle\" >H</text>\n",
       "<text x=\"133.87\" y=\"112.15\" font-size=\"14.0\"\n",
       " fill=\"rgb(0, 0, 0)\" text-anchor=\"middle\" >H</text>\n",
       "<text x=\"66.91\" y=\"108.00\" font-size=\"14.0\"\n",
       " fill=\"rgb(0, 0, 0)\" text-anchor=\"middle\" >H</text>\n",
       "<text x=\"160.00\" y=\"37.20\" font-size=\"14.0\"\n",
       " fill=\"rgb(0, 0, 0)\" text-anchor=\"middle\" >H</text>\n",
       "<text x=\"211.90\" y=\"67.31\" font-size=\"14.0\"\n",
       " fill=\"rgb(0, 0, 0)\" text-anchor=\"middle\" >H</text>\n",
       "<text x=\"30.00\" y=\"81.95\" font-size=\"14.0\"\n",
       " fill=\"rgb(0, 0, 0)\" text-anchor=\"middle\" >H</text>\n",
       "<text x=\"170.83\" y=\"108.21\" font-size=\"14.0\"\n",
       " fill=\"rgb(0, 0, 0)\" text-anchor=\"middle\" >H</text>\n",
       "<text x=\"56.07\" y=\"37.00\" font-size=\"14.0\"\n",
       " fill=\"rgb(255, 0, 0)\" text-anchor=\"middle\" >O</text>\n",
       "<g>\n",
       " <rect x=\"123.02\" y=\"41.15\" width=\"10\" height=\"10\" rx=\"5.0\" ry=\"5.0\" fill=\"rgb(240, 240, 255)\" />\n",
       " <text x=\"123.02\" y=\"51.15\" font-size=\"10\" fill=\"rgb(0, 0, 0)\">12</text>\n",
       "</g>\n",
       "<g>\n",
       " <rect x=\"107.97\" y=\"60.10\" width=\"10\" height=\"10\" rx=\"5.0\" ry=\"5.0\" fill=\"rgb(240, 240, 255)\" />\n",
       " <text x=\"107.97\" y=\"70.10\" font-size=\"10\" fill=\"rgb(0, 0, 0)\">4</text>\n",
       "</g>\n",
       "<g>\n",
       " <rect x=\"56.01\" y=\"60.00\" width=\"10\" height=\"10\" rx=\"5.0\" ry=\"5.0\" fill=\"rgb(240, 240, 255)\" />\n",
       " <text x=\"56.01\" y=\"70.00\" font-size=\"10\" fill=\"rgb(0, 0, 0)\">2</text>\n",
       "</g>\n",
       "<g>\n",
       " <rect x=\"81.96\" y=\"75.05\" width=\"10\" height=\"10\" rx=\"5.0\" ry=\"5.0\" fill=\"rgb(240, 240, 255)\" />\n",
       " <text x=\"81.96\" y=\"85.05\" font-size=\"10\" fill=\"rgb(0, 0, 0)\">3</text>\n",
       "</g>\n",
       "<g>\n",
       " <rect x=\"200.84\" y=\"108.27\" width=\"10\" height=\"10\" rx=\"5.0\" ry=\"5.0\" fill=\"rgb(240, 240, 255)\" />\n",
       " <text x=\"200.84\" y=\"118.27\" font-size=\"10\" fill=\"rgb(0, 0, 0)\">16</text>\n",
       "</g>\n",
       "<g>\n",
       " <rect x=\"93.03\" y=\"41.09\" width=\"10\" height=\"10\" rx=\"5.0\" ry=\"5.0\" fill=\"rgb(240, 240, 255)\" />\n",
       " <text x=\"93.03\" y=\"51.09\" font-size=\"10\" fill=\"rgb(0, 0, 0)\">11</text>\n",
       "</g>\n",
       "<g>\n",
       " <rect x=\"133.93\" y=\"75.15\" width=\"10\" height=\"10\" rx=\"5.0\" ry=\"5.0\" fill=\"rgb(240, 240, 255)\" />\n",
       " <text x=\"133.93\" y=\"85.15\" font-size=\"10\" fill=\"rgb(0, 0, 0)\">5</text>\n",
       "</g>\n",
       "<g>\n",
       " <rect x=\"185.89\" y=\"75.26\" width=\"10\" height=\"10\" rx=\"5.0\" ry=\"5.0\" fill=\"rgb(240, 240, 255)\" />\n",
       " <text x=\"185.89\" y=\"85.26\" font-size=\"10\" fill=\"rgb(0, 0, 0)\">7</text>\n",
       "</g>\n",
       "<g>\n",
       " <rect x=\"96.91\" y=\"108.06\" width=\"10\" height=\"10\" rx=\"5.0\" ry=\"5.0\" fill=\"rgb(240, 240, 255)\" />\n",
       " <text x=\"96.91\" y=\"118.06\" font-size=\"10\" fill=\"rgb(0, 0, 0)\">9</text>\n",
       "</g>\n",
       "<g>\n",
       " <rect x=\"133.87\" y=\"112.15\" width=\"10\" height=\"10\" rx=\"5.0\" ry=\"5.0\" fill=\"rgb(240, 240, 255)\" />\n",
       " <text x=\"133.87\" y=\"122.15\" font-size=\"10\" fill=\"rgb(0, 0, 0)\">13</text>\n",
       "</g>\n",
       "<g>\n",
       " <rect x=\"66.91\" y=\"108.00\" width=\"10\" height=\"10\" rx=\"5.0\" ry=\"5.0\" fill=\"rgb(240, 240, 255)\" />\n",
       " <text x=\"66.91\" y=\"118.00\" font-size=\"10\" fill=\"rgb(0, 0, 0)\">10</text>\n",
       "</g>\n",
       "<g>\n",
       " <rect x=\"160.00\" y=\"37.20\" width=\"10\" height=\"10\" rx=\"5.0\" ry=\"5.0\" fill=\"rgb(240, 240, 255)\" />\n",
       " <text x=\"160.00\" y=\"47.20\" font-size=\"10\" fill=\"rgb(0, 0, 0)\">14</text>\n",
       "</g>\n",
       "<g>\n",
       " <rect x=\"211.90\" y=\"67.31\" width=\"10\" height=\"10\" rx=\"5.0\" ry=\"5.0\" fill=\"rgb(240, 240, 255)\" />\n",
       " <text x=\"211.90\" y=\"77.31\" font-size=\"10\" fill=\"rgb(0, 0, 0)\">17</text>\n",
       "</g>\n",
       "<g>\n",
       " <rect x=\"30.00\" y=\"81.95\" width=\"10\" height=\"10\" rx=\"5.0\" ry=\"5.0\" fill=\"rgb(240, 240, 255)\" />\n",
       " <text x=\"30.00\" y=\"91.95\" font-size=\"10\" fill=\"rgb(0, 0, 0)\">8</text>\n",
       "</g>\n",
       "<g>\n",
       " <rect x=\"170.83\" y=\"108.21\" width=\"10\" height=\"10\" rx=\"5.0\" ry=\"5.0\" fill=\"rgb(240, 240, 255)\" />\n",
       " <text x=\"170.83\" y=\"118.21\" font-size=\"10\" fill=\"rgb(0, 0, 0)\">15</text>\n",
       "</g>\n",
       "<g>\n",
       " <rect x=\"159.94\" y=\"60.21\" width=\"10\" height=\"10\" rx=\"5.0\" ry=\"5.0\" fill=\"rgb(240, 240, 255)\" />\n",
       " <text x=\"159.94\" y=\"70.21\" font-size=\"10\" fill=\"rgb(0, 0, 0)\">6</text>\n",
       "</g>\n",
       "<g>\n",
       " <rect x=\"56.07\" y=\"37.00\" width=\"10\" height=\"10\" rx=\"5.0\" ry=\"5.0\" fill=\"rgb(240, 240, 255)\" />\n",
       " <text x=\"56.07\" y=\"47.00\" font-size=\"10\" fill=\"rgb(0, 0, 0)\">1</text>\n",
       "</g>\n",
       "</svg>\n"
      ]
     },
     "metadata": {},
     "output_type": "display_data"
    },
    {
     "data": {
      "text/html": [
       "<table class=\"data-frame\"><thead><tr><th></th><th>Group</th><th>Counts</th><th>Sets</th></tr><tr><th></th><th>String</th><th>Int64</th><th>String</th></tr></thead><tbody><p>6 rows × 3 columns</p><tr><th>1</th><td>O=CH</td><td>1</td><td>[1, 2]</td></tr><tr><th>2</th><td>CH=CH</td><td>1</td><td>[5, 6]</td></tr><tr><th>3</th><td>CH3</td><td>1</td><td>[7]</td></tr><tr><th>4</th><td>CH2</td><td>2</td><td>[4][3]</td></tr><tr><th>5</th><td>CH</td><td>3</td><td>[6][5][2]</td></tr><tr><th>6</th><td>C</td><td>6</td><td>[6][4][3][5][2][7]</td></tr></tbody></table>"
      ],
      "text/latex": [
       "\\begin{tabular}{r|ccc}\n",
       "\t& Group & Counts & Sets\\\\\n",
       "\t\\hline\n",
       "\t& String & Int64 & String\\\\\n",
       "\t\\hline\n",
       "\t1 & O=CH & 1 & [1, 2] \\\\\n",
       "\t2 & CH=CH & 1 & [5, 6] \\\\\n",
       "\t3 & CH3 & 1 & [7] \\\\\n",
       "\t4 & CH2 & 2 & [4][3] \\\\\n",
       "\t5 & CH & 3 & [6][5][2] \\\\\n",
       "\t6 & C & 6 & [6][4][3][5][2][7] \\\\\n",
       "\\end{tabular}\n"
      ],
      "text/plain": [
       "6×3 DataFrame\n",
       "│ Row │ Group  │ Counts │ Sets               │\n",
       "│     │ \u001b[90mString\u001b[39m │ \u001b[90mInt64\u001b[39m  │ \u001b[90mString\u001b[39m             │\n",
       "├─────┼────────┼────────┼────────────────────┤\n",
       "│ 1   │ O=CH   │ 1      │ [1, 2]             │\n",
       "│ 2   │ CH=CH  │ 1      │ [5, 6]             │\n",
       "│ 3   │ CH3    │ 1      │ [7]                │\n",
       "│ 4   │ CH2    │ 2      │ [4][3]             │\n",
       "│ 5   │ CH     │ 3      │ [6][5][2]          │\n",
       "│ 6   │ C      │ 6      │ [6][4][3][5][2][7] │"
      ]
     },
     "metadata": {},
     "output_type": "display_data"
    }
   ],
   "source": [
    "canvas = SvgCanvas()\n",
    "draw2d!(canvas, mol)\n",
    "drawatomindex!(canvas, mol)\n",
    "mol_svg = tosvg(canvas, 400, 400)\n",
    "display(\"image/svg+xml\",  mol_svg)\n",
    "\n",
    "fg = functionalgroupgraph(mol)\n",
    "funcgroups = DataFrame(Group = String[], Counts = Int[], Sets = String[])\n",
    "\n",
    "for (term, components) in fg.componentmap\n",
    "    nodes = [sort(collect(comp)) for comp in components]\n",
    "    push!(funcgroups, (string(term), length(collect(nodes)), string(nodes...)))\n",
    "end\n",
    "\n",
    "display(funcgroups)"
   ]
  },
  {
   "cell_type": "code",
   "execution_count": 99,
   "metadata": {},
   "outputs": [
    {
     "name": "stdout",
     "output_type": "stream",
     "text": [
      "Tb = 406.7536675703762 K\n",
      "Tc = 601.1250389277233 bar\n"
     ]
    }
   ],
   "source": [
    "Tb = 244.7889 * log(1*0.9218 + 2*0.5780 + 1.2001 + 2.1021 - 0.0063 - 0.1057)\n",
    "Tc = 181.6738 * log(1*1.0898 + 2*3.4604 + 8.2552 + 11.2208 + 0.0894 - 0.2233)\n",
    "\n",
    "println(\"Tb = \", Tb, \" K\")\n",
    "println(\"Tc = \", Tc, \" bar\")"
   ]
  },
  {
   "cell_type": "code",
   "execution_count": 125,
   "metadata": {},
   "outputs": [
    {
     "data": {
      "text/plain": [
       "2962"
      ]
     },
     "execution_count": 125,
     "metadata": {},
     "output_type": "execute_result"
    }
   ],
   "source": [
    "svg_string = drawsvg(mol, 300, 300)\n",
    "\n",
    "open(\"output.svg\", \"w\") do io\n",
    "    write(io, svg_string)\n",
    "end"
   ]
  },
  {
   "cell_type": "code",
   "execution_count": null,
   "metadata": {},
   "outputs": [],
   "source": []
  }
 ],
 "metadata": {
  "kernelspec": {
   "display_name": "Julia 1.3.1",
   "language": "julia",
   "name": "julia-1.3"
  },
  "language_info": {
   "file_extension": ".jl",
   "mimetype": "application/julia",
   "name": "julia",
   "version": "1.3.1"
  }
 },
 "nbformat": 4,
 "nbformat_minor": 4
}

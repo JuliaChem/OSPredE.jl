{
 "cells": [
  {
   "cell_type": "code",
   "execution_count": 1,
   "metadata": {},
   "outputs": [
    {
     "name": "stdout",
     "output_type": "stream",
     "text": [
      "\u001b[32m\u001b[1m  Building\u001b[22m\u001b[39m Cxx → `C:\\Users\\Kelvyn\\.julia\\packages\\Cxx\\1RaOv\\deps\\build.log`\n"
     ]
    }
   ],
   "source": [
    "] build MolecularGraph"
   ]
  },
  {
   "cell_type": "code",
   "execution_count": 1,
   "metadata": {},
   "outputs": [
    {
     "name": "stderr",
     "output_type": "stream",
     "text": [
      "┌ Info: Precompiling MolecularGraph [6c89ec66-9cd8-5372-9f91-fabc50dd27fd]\n",
      "└ @ Base loading.jl:1273\n"
     ]
    },
    {
     "name": "stdout",
     "output_type": "stream",
     "text": [
      "loading: funcgroup.yaml\n",
      "loading: ring.yaml\n",
      "loading: biomolecule.yaml\n"
     ]
    }
   ],
   "source": [
    "using MolecularGraph, DataFrames"
   ]
  },
  {
   "cell_type": "code",
   "execution_count": 2,
   "metadata": {},
   "outputs": [
    {
     "data": {
      "image/svg+xml": [
       "<svg xmlns=\"http://www.w3.org/2000/svg\"\n",
       " xmlns:xlink=\"http://www.w3.org/1999/xlink\"\n",
       " version=\"1.2\" baseProfile=\"tiny\"\n",
       " text-rendering=\"geometricPrecision\"\n",
       " preserveAspectRatio=\"xMidYMid meet\"\n",
       " font-weight=\"normal\"\n",
       " font-family=\"Helvetica\"\n",
       " width=\"400\" height=\"400\"\n",
       " viewBox=\"0 0 215.88 75.10\">\n",
       "<rect x=\"0\" y=\"0\" width=\"215.88\" height=\"75.10\"\n",
       " fill=\"rgb(255, 255, 255)\" opacity=\"0.0\"/>\n",
       "<line x1=\"107.95\" y1=\"45.07\" x2=\"133.92\" y2=\"30.04\" stroke=\"rgb(0, 0, 0)\" /><line x1=\"55.99\" y1=\"45.10\" x2=\"81.96\" y2=\"30.08\" stroke=\"rgb(0, 0, 0)\" /><line x1=\"81.96\" y1=\"30.08\" x2=\"107.95\" y2=\"45.07\" stroke=\"rgb(0, 0, 0)\" /><line x1=\"133.92\" y1=\"30.04\" x2=\"159.91\" y2=\"45.02\" stroke=\"rgb(0, 0, 0)\" /><line x1=\"134.27\" y1=\"35.44\" x2=\"155.06\" y2=\"47.42\" stroke=\"rgb(0, 0, 0)\" /><line x1=\"159.91\" y1=\"45.02\" x2=\"185.88\" y2=\"30.00\" stroke=\"rgb(0, 0, 0)\" /><line x1=\"36.67\" y1=\"36.57\" x2=\"45.77\" y2=\"41.81\" stroke=\"rgb(255, 0, 0)\" />\n",
       "<line x1=\"45.77\" y1=\"41.81\" x2=\"54.87\" y2=\"47.05\" stroke=\"rgb(0, 0, 0)\" />\n",
       "<line x1=\"38.92\" y1=\"32.67\" x2=\"48.02\" y2=\"37.91\" stroke=\"rgb(255, 0, 0)\" />\n",
       "<line x1=\"48.02\" y1=\"37.91\" x2=\"57.11\" y2=\"43.15\" stroke=\"rgb(0, 0, 0)\" />\n",
       "<text x=\"30.00\" y=\"37.13\" font-size=\"14.0\"\n",
       " fill=\"rgb(255, 0, 0)\" text-anchor=\"middle\" >O</text>\n",
       "</svg>\n"
      ]
     },
     "metadata": {},
     "output_type": "display_data"
    }
   ],
   "source": [
    "mol = smilestomol(\"O=CCCC=CC\")\n",
    "mol_svg = drawsvg(mol, 400, 400)\n",
    "display(\"image/svg+xml\",  mol_svg)"
   ]
  },
  {
   "cell_type": "code",
   "execution_count": 3,
   "metadata": {
    "scrolled": false
   },
   "outputs": [
    {
     "data": {
      "image/svg+xml": [
       "<svg xmlns=\"http://www.w3.org/2000/svg\"\n",
       " xmlns:xlink=\"http://www.w3.org/1999/xlink\"\n",
       " version=\"1.2\" baseProfile=\"tiny\"\n",
       " text-rendering=\"geometricPrecision\"\n",
       " preserveAspectRatio=\"xMidYMid meet\"\n",
       " font-weight=\"normal\"\n",
       " font-family=\"Helvetica\"\n",
       " width=\"400\" height=\"400\"\n",
       " viewBox=\"0 0 215.88 75.10\">\n",
       "<rect x=\"0\" y=\"0\" width=\"215.88\" height=\"75.10\"\n",
       " fill=\"rgb(255, 255, 255)\" opacity=\"0.0\"/>\n",
       "<line x1=\"107.95\" y1=\"45.07\" x2=\"133.92\" y2=\"30.04\" stroke=\"rgb(0, 0, 0)\" /><line x1=\"55.99\" y1=\"45.10\" x2=\"81.96\" y2=\"30.08\" stroke=\"rgb(0, 0, 0)\" /><line x1=\"81.96\" y1=\"30.08\" x2=\"107.95\" y2=\"45.07\" stroke=\"rgb(0, 0, 0)\" /><line x1=\"133.92\" y1=\"30.04\" x2=\"159.91\" y2=\"45.02\" stroke=\"rgb(0, 0, 0)\" /><line x1=\"134.27\" y1=\"35.44\" x2=\"155.06\" y2=\"47.42\" stroke=\"rgb(0, 0, 0)\" /><line x1=\"159.91\" y1=\"45.02\" x2=\"185.88\" y2=\"30.00\" stroke=\"rgb(0, 0, 0)\" /><line x1=\"36.67\" y1=\"36.57\" x2=\"45.77\" y2=\"41.81\" stroke=\"rgb(255, 0, 0)\" />\n",
       "<line x1=\"45.77\" y1=\"41.81\" x2=\"54.87\" y2=\"47.05\" stroke=\"rgb(0, 0, 0)\" />\n",
       "<line x1=\"38.92\" y1=\"32.67\" x2=\"48.02\" y2=\"37.91\" stroke=\"rgb(255, 0, 0)\" />\n",
       "<line x1=\"48.02\" y1=\"37.91\" x2=\"57.11\" y2=\"43.15\" stroke=\"rgb(0, 0, 0)\" />\n",
       "<text x=\"30.00\" y=\"37.13\" font-size=\"14.0\"\n",
       " fill=\"rgb(255, 0, 0)\" text-anchor=\"middle\" >O</text>\n",
       "<g>\n",
       " <rect x=\"185.88\" y=\"30.00\" width=\"10\" height=\"10\" rx=\"5.0\" ry=\"5.0\" fill=\"rgb(240, 240, 255)\" />\n",
       " <text x=\"185.88\" y=\"40.00\" font-size=\"10\" fill=\"rgb(0, 0, 0)\">7</text>\n",
       "</g>\n",
       "<g>\n",
       " <rect x=\"107.95\" y=\"45.07\" width=\"10\" height=\"10\" rx=\"5.0\" ry=\"5.0\" fill=\"rgb(240, 240, 255)\" />\n",
       " <text x=\"107.95\" y=\"55.07\" font-size=\"10\" fill=\"rgb(0, 0, 0)\">4</text>\n",
       "</g>\n",
       "<g>\n",
       " <rect x=\"55.99\" y=\"45.10\" width=\"10\" height=\"10\" rx=\"5.0\" ry=\"5.0\" fill=\"rgb(240, 240, 255)\" />\n",
       " <text x=\"55.99\" y=\"55.10\" font-size=\"10\" fill=\"rgb(0, 0, 0)\">2</text>\n",
       "</g>\n",
       "<g>\n",
       " <rect x=\"81.96\" y=\"30.08\" width=\"10\" height=\"10\" rx=\"5.0\" ry=\"5.0\" fill=\"rgb(240, 240, 255)\" />\n",
       " <text x=\"81.96\" y=\"40.08\" font-size=\"10\" fill=\"rgb(0, 0, 0)\">3</text>\n",
       "</g>\n",
       "<g>\n",
       " <rect x=\"133.92\" y=\"30.04\" width=\"10\" height=\"10\" rx=\"5.0\" ry=\"5.0\" fill=\"rgb(240, 240, 255)\" />\n",
       " <text x=\"133.92\" y=\"40.04\" font-size=\"10\" fill=\"rgb(0, 0, 0)\">5</text>\n",
       "</g>\n",
       "<g>\n",
       " <rect x=\"159.91\" y=\"45.02\" width=\"10\" height=\"10\" rx=\"5.0\" ry=\"5.0\" fill=\"rgb(240, 240, 255)\" />\n",
       " <text x=\"159.91\" y=\"55.02\" font-size=\"10\" fill=\"rgb(0, 0, 0)\">6</text>\n",
       "</g>\n",
       "<g>\n",
       " <rect x=\"30.00\" y=\"37.13\" width=\"10\" height=\"10\" rx=\"5.0\" ry=\"5.0\" fill=\"rgb(240, 240, 255)\" />\n",
       " <text x=\"30.00\" y=\"47.13\" font-size=\"10\" fill=\"rgb(0, 0, 0)\">1</text>\n",
       "</g>\n",
       "</svg>\n"
      ]
     },
     "metadata": {},
     "output_type": "display_data"
    },
    {
     "data": {
      "text/html": [
       "<table class=\"data-frame\"><thead><tr><th></th><th>Group</th><th>Counts</th><th>Sets</th></tr><tr><th></th><th>String</th><th>Int64</th><th>String</th></tr></thead><tbody><p>3 rows × 3 columns</p><tr><th>1</th><td>Alkene</td><td>1</td><td>[5, 6]</td></tr><tr><th>2</th><td>Aldehyde</td><td>1</td><td>[1, 2, 3]</td></tr><tr><th>3</th><td>Carbonyl</td><td>1</td><td>[1, 2]</td></tr></tbody></table>"
      ],
      "text/latex": [
       "\\begin{tabular}{r|ccc}\n",
       "\t& Group & Counts & Sets\\\\\n",
       "\t\\hline\n",
       "\t& String & Int64 & String\\\\\n",
       "\t\\hline\n",
       "\t1 & Alkene & 1 & [5, 6] \\\\\n",
       "\t2 & Aldehyde & 1 & [1, 2, 3] \\\\\n",
       "\t3 & Carbonyl & 1 & [1, 2] \\\\\n",
       "\\end{tabular}\n"
      ],
      "text/plain": [
       "3×3 DataFrame\n",
       "│ Row │ Group    │ Counts │ Sets      │\n",
       "│     │ \u001b[90mString\u001b[39m   │ \u001b[90mInt64\u001b[39m  │ \u001b[90mString\u001b[39m    │\n",
       "├─────┼──────────┼────────┼───────────┤\n",
       "│ 1   │ Alkene   │ 1      │ [5, 6]    │\n",
       "│ 2   │ Aldehyde │ 1      │ [1, 2, 3] │\n",
       "│ 3   │ Carbonyl │ 1      │ [1, 2]    │"
      ]
     },
     "metadata": {},
     "output_type": "display_data"
    }
   ],
   "source": [
    "canvas = SvgCanvas()\n",
    "draw2d!(canvas, mol)\n",
    "drawatomindex!(canvas, mol)\n",
    "mol_svg = tosvg(canvas, 400, 400)\n",
    "display(\"image/svg+xml\",  mol_svg)\n",
    "\n",
    "fg = functionalgroupgraph(mol)\n",
    "funcgroups = DataFrame(Group = String[], Counts = Int[], Sets = String[])\n",
    "\n",
    "for (term, components) in fg.componentmap\n",
    "    nodes = [sort(collect(comp)) for comp in components]\n",
    "    push!(funcgroups, (string(term), length(collect(nodes)), string(nodes...)))\n",
    "end\n",
    "\n",
    "display(funcgroups)"
   ]
  },
  {
   "cell_type": "code",
   "execution_count": 99,
   "metadata": {},
   "outputs": [
    {
     "name": "stdout",
     "output_type": "stream",
     "text": [
      "Tb = 406.7536675703762 K\n",
      "Tc = 601.1250389277233 bar\n"
     ]
    }
   ],
   "source": [
    "Tb = 244.7889 * log(1*0.9218 + 2*0.5780 + 1.2001 + 2.1021 - 0.0063 - 0.1057)\n",
    "Tc = 181.6738 * log(1*1.0898 + 2*3.4604 + 8.2552 + 11.2208 + 0.0894 - 0.2233)\n",
    "\n",
    "println(\"Tb = \", Tb, \" K\")\n",
    "println(\"Tc = \", Tc, \" bar\")"
   ]
  },
  {
   "cell_type": "code",
   "execution_count": 125,
   "metadata": {},
   "outputs": [
    {
     "data": {
      "text/plain": [
       "2962"
      ]
     },
     "execution_count": 125,
     "metadata": {},
     "output_type": "execute_result"
    }
   ],
   "source": [
    "svg_string = drawsvg(mol, 300, 300)\n",
    "\n",
    "open(\"output.svg\", \"w\") do io\n",
    "    write(io, svg_string)\n",
    "end"
   ]
  },
  {
   "cell_type": "code",
   "execution_count": null,
   "metadata": {},
   "outputs": [],
   "source": []
  }
 ],
 "metadata": {
  "kernelspec": {
   "display_name": "Julia 1.3.1",
   "language": "julia",
   "name": "julia-1.3"
  },
  "language_info": {
   "file_extension": ".jl",
   "mimetype": "application/julia",
   "name": "julia",
   "version": "1.3.1"
  }
 },
 "nbformat": 4,
 "nbformat_minor": 4
}
